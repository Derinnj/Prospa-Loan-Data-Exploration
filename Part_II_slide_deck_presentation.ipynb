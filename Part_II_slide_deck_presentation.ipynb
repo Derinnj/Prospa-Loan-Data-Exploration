{
 "cells": [
  {
   "cell_type": "markdown",
   "metadata": {
    "slideshow": {
     "slide_type": "slide"
    }
   },
   "source": [
    "# Part II - (Prosper Loan Data Exploration)\n",
    "## by (Aderinsola Joseph)"
   ]
  },
  {
   "cell_type": "markdown",
   "metadata": {
    "slideshow": {
     "slide_type": "slide"
    }
   },
   "source": [
    "\n",
    "## Investigation Overview\n",
    "\n",
    "The main goal of this investigation was to determine the demographics of the borrowers, including their employment status, income range distribution and loan term listings.\n",
    "\n",
    "\n",
    "## Dataset Overview\n",
    "\n",
    "The dataset being used for this project is the Prosper loan Dataset, provided by Udacity. There are 113,937 loans in the dataset with 81 features."
   ]
  },
  {
   "cell_type": "code",
   "execution_count": null,
   "metadata": {
    "slideshow": {
     "slide_type": "skip"
    }
   },
   "outputs": [],
   "source": [
    "# import all packages and set plots to be embedded inline\n",
    "import numpy as np\n",
    "import pandas as pd\n",
    "import matplotlib.pyplot as plt\n",
    "import seaborn as sb\n",
    "\n",
    "%matplotlib inline\n",
    "\n",
    "# suppress warnings from final output\n",
    "import warnings\n",
    "warnings.simplefilter(\"ignore\")"
   ]
  },
  {
   "cell_type": "code",
   "execution_count": null,
   "metadata": {
    "slideshow": {
     "slide_type": "skip"
    }
   },
   "outputs": [],
   "source": [
    "# load in the dataset into a pandas dataframe\n",
    "loan = pd.read_csv('prosperLoanData.csv')"
   ]
  },
  {
   "cell_type": "markdown",
   "metadata": {
    "slideshow": {
     "slide_type": "slide"
    }
   },
   "source": [
    "### Employment status distribution of borrowers\n",
    "\n",
    "The distribution of the borrower's job status reveals that the majority of them classify as employed, thus this will serve as our first visualisation to help us learn more about the borrowers."
   ]
  },
  {
   "cell_type": "code",
   "execution_count": null,
   "metadata": {
    "slideshow": {
     "slide_type": "subslide"
    }
   },
   "outputs": [],
   "source": [
    "plt.figure(figsize = [15, 7])\n",
    "color =sb.color_palette()[0]\n",
    "order = loan[\"EmploymentStatus\"].value_counts().index\n",
    "sb.countplot(data=loan, x='EmploymentStatus', color=color, order=order)\n",
    "plt.title(\" Distribution of Borrower Employment Status\")\n",
    "plt.xlabel(\"Employment Status\")\n",
    "plt.ylabel(\"Count\");"
   ]
  },
  {
   "cell_type": "markdown",
   "metadata": {
    "collapsed": true,
    "slideshow": {
     "slide_type": "slide"
    }
   },
   "source": [
    "## Income Range Distribution \n",
    "\n",
    "The breakdown of income ranges reveals that the majority of the borrowers earn between 25,000 and $74,999."
   ]
  },
  {
   "cell_type": "code",
   "execution_count": null,
   "metadata": {
    "slideshow": {
     "slide_type": "subslide"
    }
   },
   "outputs": [],
   "source": [
    "plt.figure(figsize = [15, 7])\n",
    "color =sb.color_palette()[0]\n",
    "order = loan[\"IncomeRange\"].value_counts().index\n",
    "sb.countplot(data=loan, x='IncomeRange', color=color, order=order)\n",
    "plt.title(\" Distribution of Borrower Income Range\")\n",
    "plt.xlabel(\"Income Range\");"
   ]
  },
  {
   "cell_type": "markdown",
   "metadata": {
    "slideshow": {
     "slide_type": "slide"
    }
   },
   "source": [
    "## Loan listings among the loan terms that are offered\n",
    "The most typical loan length (3 years) was 36 months, and the least typical was 12 months (1 year). Some loans have a period of 60 months (5 years)\n"
   ]
  },
  {
   "cell_type": "code",
   "execution_count": null,
   "metadata": {
    "slideshow": {
     "slide_type": "subslide"
    }
   },
   "outputs": [],
   "source": [
    "sorted_counts = loan['Term'].value_counts()\n",
    "plt.pie(sorted_counts, autopct='%1.1f%%', startangle = 90, counterclock = False);\n",
    "plt.axis('square')\n",
    "plt.legend(labels=['36 Months','60 Months','12 Months'])\n",
    "plt.title(\"Loan Term\");"
   ]
  },
  {
   "cell_type": "markdown",
   "metadata": {
    "slideshow": {
     "slide_type": "skip"
    }
   },
   "source": [
    "### Generate Slideshow\n",
    "Once you're ready to generate your slideshow, use the `jupyter nbconvert` command to generate the HTML slide show.  "
   ]
  },
  {
   "cell_type": "code",
   "execution_count": null,
   "metadata": {
    "slideshow": {
     "slide_type": "skip"
    }
   },
   "outputs": [],
   "source": [
    "# Use this command if you are running this file in local\n",
    "!jupyter nbconvert Part_II_slide_deck_presentation.ipynb --to slides --post serve --no-input --no-prompt"
   ]
  },
  {
   "cell_type": "markdown",
   "metadata": {
    "slideshow": {
     "slide_type": "skip"
    }
   },
   "source": [
    "### Submission\n",
    "If you are using classroom workspace, you can choose from the following two ways of submission:\n",
    "\n",
    "1. **Submit from the workspace**. Make sure you have removed the example project from the /home/workspace directory. You must submit the following files:\n",
    "   - Part_I_notebook.ipynb\n",
    "   - Part_I_notebook.html or pdf\n",
    "   - Part_II_notebook.ipynb\n",
    "   - Part_I_slides.html\n",
    "   - README.md\n",
    "   - dataset (optional)\n",
    "\n",
    "\n",
    "2. **Submit a zip file on the last page of this project lesson**. In this case, open the Jupyter terminal and run the command below to generate a ZIP file. \n",
    "```bash\n",
    "zip -r my_project.zip .\n",
    "```\n",
    "The command abobve will ZIP every file present in your /home/workspace directory. Next, you can download the zip to your local, and follow the instructions on the last page of this project lesson.\n"
   ]
  },
  {
   "cell_type": "code",
   "execution_count": null,
   "metadata": {},
   "outputs": [],
   "source": []
  },
  {
   "cell_type": "code",
   "execution_count": null,
   "metadata": {},
   "outputs": [],
   "source": []
  }
 ],
 "metadata": {
  "celltoolbar": "Slideshow",
  "kernelspec": {
   "display_name": "Python 3",
   "language": "python",
   "name": "python3"
  },
  "language_info": {
   "codemirror_mode": {
    "name": "ipython",
    "version": 3
   },
   "file_extension": ".py",
   "mimetype": "text/x-python",
   "name": "python",
   "nbconvert_exporter": "python",
   "pygments_lexer": "ipython3",
   "version": "3.6.3"
  }
 },
 "nbformat": 4,
 "nbformat_minor": 2
}
